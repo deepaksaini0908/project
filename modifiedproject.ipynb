import tkinter as tk
import pandas as pd
import seaborn as sns
from sklearn.metrics import r2_score
from sklearn.model_selection import train_test_split
from sklearn.ensemble import RandomForestClassifier
from tkinter import filedialog,messagebox,ttk
from sklearn.linear_model import LinearRegression
from sklearn.neighbors import KNeighborsClassifier
import numpy as np
t=tk.Tk()
t.title("Machine Learning Project")
t.geometry("1350x2000+0+0")

fm1=tk.Frame(t)
fm1.pack()
fram1=tk.Label(fm1,text="Mobile Price Range Predict",font=("arial",50,"bold"),relief="ridge",bd=10)
fram1.grid(row=0,columnspan=2,pady=20)
fm2=tk.Frame(fm1,bd=10,width=1000,height=300,relief="ridge")
fm2.grid(row=2)
y1_pre=tk.DoubleVar()
y2_pre=tk.DoubleVar()
y3_pre=tk.DoubleVar()
filename=tk.IntVar()
Maxstr=tk.StringVar()
##################### variable for Frame 2 ############################
global stm

stm=[]
k11=[]
w11=[]
storeval=tk.IntVar()
strmn=""
global kl

#######################################################################
l={}
ranfo="1"
check=tk.StringVar()
########################################## Class ###########################################################
class Primary:
    y1_pre=tk.IntVar()
    def __init__(self,x_train,x_test,y_train,y_test):
        self.x_train=x_train
        self.y_train=y_train
        self.y_test=y_test
        self.x_test=x_test
    def RandomForest(self):
        self.classifi=RandomForestClassifier(n_estimators=30,criterion="entropy")
        self.classifi.fit(self.x_train,self.y_train)
        self.y_pre=self.classifi.predict(self.x_test)
        self.r2score=r2_score(self.y_test,self.y_pre)
        y1_pre.set(str(self.r2score))
        l[y1_pre.get()]="a"
        
        
    def Linerregression(self):
        self.linreg=LinearRegression()
        self.linreg.fit(self.x_train,self.y_train)
        self.y11_pre=self.linreg.predict(self.x_test)
        self.r21score=r2_score(self.y_test,self.y11_pre)
        y2_pre.set(str(self.r21score))
        l[y2_pre.get()]="b"
        
    def KnnModel(self):
        self.knnm=KNeighborsClassifier(n_neighbors=30)
        self.knnm.fit(self.x_train,self.y_train)
        self.y22_pre=self.knnm.predict(self.x_test)
        self.r31score=r2_score(self.y_test,self.y22_pre)
        y3_pre.set(str(self.r31score))
        l[y3_pre.get()]="c"
        
